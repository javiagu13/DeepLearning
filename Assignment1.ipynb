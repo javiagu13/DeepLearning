{
  "nbformat": 4,
  "nbformat_minor": 0,
  "metadata": {
    "colab": {
      "name": "Assignment1.ipynb",
      "provenance": [],
      "collapsed_sections": [],
      "authorship_tag": "ABX9TyOLqbO78InSmncoMbml8sxf",
      "include_colab_link": true
    },
    "kernelspec": {
      "name": "python3",
      "display_name": "Python 3"
    },
    "accelerator": "GPU"
  },
  "cells": [
    {
      "cell_type": "markdown",
      "metadata": {
        "id": "view-in-github",
        "colab_type": "text"
      },
      "source": [
        "<a href=\"https://colab.research.google.com/github/javiagu13/DeepLearning/blob/main/Assignment1.ipynb\" target=\"_parent\"><img src=\"https://colab.research.google.com/assets/colab-badge.svg\" alt=\"Open In Colab\"/></a>"
      ]
    },
    {
      "cell_type": "code",
      "metadata": {
        "id": "6i9kDdB3rKfP"
      },
      "source": [
        "import tensorflow as tf \n",
        "import numpy as np \n",
        "from tensorflow import keras\n",
        "import matplotlib.pyplot as plt "
      ],
      "execution_count": null,
      "outputs": []
    },
    {
      "cell_type": "code",
      "metadata": {
        "id": "xXROz7q9s56r",
        "outputId": "c4a8a012-5d90-465a-feca-4dc7e125ed19",
        "colab": {
          "base_uri": "https://localhost:8080/",
          "height": 164
        }
      },
      "source": [
        "#b)obtaining the dataset\n",
        "fashion_mnist = keras.datasets.fashion_mnist\n",
        "#c)splitting dataset\n",
        "(train_images, train_labels),(test_images, test_labels) = fashion_mnist.load_data()"
      ],
      "execution_count": null,
      "outputs": [
        {
          "output_type": "stream",
          "text": [
            "Downloading data from https://storage.googleapis.com/tensorflow/tf-keras-datasets/train-labels-idx1-ubyte.gz\n",
            "32768/29515 [=================================] - 0s 0us/step\n",
            "Downloading data from https://storage.googleapis.com/tensorflow/tf-keras-datasets/train-images-idx3-ubyte.gz\n",
            "26427392/26421880 [==============================] - 0s 0us/step\n",
            "Downloading data from https://storage.googleapis.com/tensorflow/tf-keras-datasets/t10k-labels-idx1-ubyte.gz\n",
            "8192/5148 [===============================================] - 0s 0us/step\n",
            "Downloading data from https://storage.googleapis.com/tensorflow/tf-keras-datasets/t10k-images-idx3-ubyte.gz\n",
            "4423680/4422102 [==============================] - 0s 0us/step\n"
          ],
          "name": "stdout"
        }
      ]
    },
    {
      "cell_type": "code",
      "metadata": {
        "id": "sqbwm8pps76p",
        "outputId": "ce82802d-ecbd-42e8-bb9a-25cfdf290282",
        "colab": {
          "base_uri": "https://localhost:8080/",
          "height": 283
        }
      },
      "source": [
        "#d) printing an image: its class is the T-shirt class\n",
        "plt.imshow(train_images[1])"
      ],
      "execution_count": null,
      "outputs": [
        {
          "output_type": "execute_result",
          "data": {
            "text/plain": [
              "<matplotlib.image.AxesImage at 0x7f484eb163c8>"
            ]
          },
          "metadata": {
            "tags": []
          },
          "execution_count": 3
        },
        {
          "output_type": "display_data",
          "data": {
            "image/png": "[encoded data removed]",
            "text/plain": [
              "<Figure size 432x288 with 1 Axes>"
            ]
          },
          "metadata": {
            "tags": [],
            "needs_background": "light"
          }
        }
      ]
    },
    {
      "cell_type": "code",
      "metadata": {
        "id": "0YQKWHeXtDLE"
      },
      "source": [
        "train_images = train_images / 255.0\n",
        "test_images = test_images / 255.0"
      ],
      "execution_count": null,
      "outputs": []
    },
    {
      "cell_type": "code",
      "metadata": {
        "id": "dKg-TQp4tRDS"
      },
      "source": [
        "model = keras.Sequential([ \n",
        "keras.layers.Flatten(input_shape = (28, 28)),\n",
        "keras.layers.Dense(2048, activation = tf.nn.relu),\n",
        "\n",
        "keras.layers.Dense(10, activation = tf.nn.softmax)]) "
      ],
      "execution_count": null,
      "outputs": []
    },
    {
      "cell_type": "code",
      "metadata": {
        "id": "fygRMXT1tVSy"
      },
      "source": [
        "#f)compiling model\n",
        "model.compile(optimizer = 'adam', loss = 'sparse_categorical_crossentropy', metrics=['accuracy']) "
      ],
      "execution_count": null,
      "outputs": []
    },
    {
      "cell_type": "code",
      "metadata": {
        "id": "CZ37mM7gtiEE",
        "outputId": "24399198-c3da-4c5e-9a02-6d37f8679ab0",
        "colab": {
          "base_uri": "https://localhost:8080/",
          "height": 403
        }
      },
      "source": [
        "\n",
        "class myCallback(tf.keras.callbacks.Callback):\n",
        "\tdef on_epoch_end(self, epoch, logs={}):\n",
        "\t\tif(logs.get('loss') < 0.01):\n",
        "\t\t\tprint(\"\\n Reached 99% accuracy, stopping\")\n",
        "\t\t\tself.model.stop_training = True\n",
        "\n",
        "callbacks = myCallback()\n",
        "\n",
        "model.fit(train_images, train_labels,epochs=10,callbacks=[callbacks])\n",
        "#7) no, i have not been able to reach 0.99 accuracy"
      ],
      "execution_count": null,
      "outputs": [
        {
          "output_type": "stream",
          "text": [
            "Epoch 1/10\n",
            "1875/1875 [==============================] - 3s 1ms/step - loss: 0.5981 - accuracy: 0.7982\n",
            "Epoch 2/10\n",
            "1875/1875 [==============================] - 3s 1ms/step - loss: 0.4620 - accuracy: 0.8408\n",
            "Epoch 3/10\n",
            "1875/1875 [==============================] - 3s 1ms/step - loss: 0.4353 - accuracy: 0.8501\n",
            "Epoch 4/10\n",
            "1875/1875 [==============================] - 3s 1ms/step - loss: 0.4226 - accuracy: 0.8554\n",
            "Epoch 5/10\n",
            "1875/1875 [==============================] - 3s 1ms/step - loss: 0.4141 - accuracy: 0.8572\n",
            "Epoch 6/10\n",
            "1875/1875 [==============================] - 3s 1ms/step - loss: 0.4074 - accuracy: 0.8598\n",
            "Epoch 7/10\n",
            "1875/1875 [==============================] - 3s 1ms/step - loss: 0.4017 - accuracy: 0.8601\n",
            "Epoch 8/10\n",
            "1875/1875 [==============================] - 3s 1ms/step - loss: 0.3984 - accuracy: 0.8619\n",
            "Epoch 9/10\n",
            "1875/1875 [==============================] - 3s 1ms/step - loss: 0.3946 - accuracy: 0.8629\n",
            "Epoch 10/10\n",
            "1875/1875 [==============================] - 3s 1ms/step - loss: 0.3918 - accuracy: 0.8629\n"
          ],
          "name": "stdout"
        },
        {
          "output_type": "execute_result",
          "data": {
            "text/plain": [
              "<tensorflow.python.keras.callbacks.History at 0x7f47d8284f60>"
            ]
          },
          "metadata": {
            "tags": []
          },
          "execution_count": 29
        }
      ]
    },
    {
      "cell_type": "code",
      "metadata": {
        "id": "yq-hXON-t7fm",
        "outputId": "35ad1a1f-a9ea-4505-dfa6-488cf71dfddc",
        "colab": {
          "base_uri": "https://localhost:8080/",
          "height": 109
        }
      },
      "source": [
        "classifications = model.predict(test_images) \n",
        "print(classifications[0])\n",
        "model.evaluate(test_images, test_labels) \n",
        "#the performance of the model is of 0.88, so yes it is good with unseen data\n",
        "print(test_images.size)\n",
        "print(train_images.size)\n",
        "\n",
        "#inside test set 7840000 images\n",
        "#inside training set 47040000 images"
      ],
      "execution_count": null,
      "outputs": [
        {
          "output_type": "stream",
          "text": [
            "[8.4020569e-15 2.6497589e-17 2.8063911e-16 1.9135979e-21 4.4509719e-17\n",
            " 4.8181471e-07 2.0770287e-17 4.7634261e-05 5.7239754e-17 9.9995184e-01]\n",
            "313/313 [==============================] - 0s 2ms/step - loss: 0.4237 - accuracy: 0.8817\n",
            "7840000\n",
            "47040000\n"
          ],
          "name": "stdout"
        }
      ]
    },
    {
      "cell_type": "code",
      "metadata": {
        "id": "w7mgdNUYv_mr",
        "outputId": "76e51515-601d-4702-87bf-0de2be05009f",
        "colab": {
          "base_uri": "https://localhost:8080/",
          "height": 54
        }
      },
      "source": [
        ""
      ],
      "execution_count": null,
      "outputs": [
        {
          "output_type": "stream",
          "text": [
            "313/313 [==============================] - 0s 2ms/step - loss: 0.4237 - accuracy: 0.8817\n"
          ],
          "name": "stdout"
        },
        {
          "output_type": "execute_result",
          "data": {
            "text/plain": [
              "[0.42365244030952454, 0.8816999793052673]"
            ]
          },
          "metadata": {
            "tags": []
          },
          "execution_count": 24
        }
      ]
    },
    {
      "cell_type": "code",
      "metadata": {
        "id": "p8k7-ilwxSVu",
        "outputId": "ff8672a2-ffcd-4bba-df09-c31db00ce91e",
        "colab": {
          "base_uri": "https://localhost:8080/",
          "height": 54
        }
      },
      "source": [
        "model = keras.Sequential([ \n",
        "keras.layers.Flatten(input_shape = (28, 28)),\n",
        "keras.layers.Dense(10, activation = tf.nn.softmax)]) \n",
        "\n",
        "model.compile(optimizer = 'adam', loss = 'sparse_categorical_crossentropy', metrics=['accuracy']) \n",
        "model.evaluate(test_images, test_labels) \n",
        "#the model without hidden layers gives a bad performance 0.06"
      ],
      "execution_count": null,
      "outputs": [
        {
          "output_type": "stream",
          "text": [
            "313/313 [==============================] - 0s 1ms/step - loss: 2.5716 - accuracy: 0.0666\n"
          ],
          "name": "stdout"
        },
        {
          "output_type": "execute_result",
          "data": {
            "text/plain": [
              "[2.5715701580047607, 0.066600002348423]"
            ]
          },
          "metadata": {
            "tags": []
          },
          "execution_count": 28
        }
      ]
    },
    {
      "cell_type": "code",
      "metadata": {
        "id": "UR8KymXsyQ95"
      },
      "source": [
        ""
      ],
      "execution_count": null,
      "outputs": []
    }
  ]
}