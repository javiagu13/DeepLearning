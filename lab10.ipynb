{
  "nbformat": 4,
  "nbformat_minor": 0,
  "metadata": {
    "colab": {
      "name": "lab10.ipynb",
      "provenance": [],
      "collapsed_sections": [],
      "authorship_tag": "ABX9TyPmCMdyIfBj8akHcP9wj4GD",
      "include_colab_link": true
    },
    "kernelspec": {
      "name": "python3",
      "display_name": "Python 3"
    }
  },
  "cells": [
    {
      "cell_type": "markdown",
      "metadata": {
        "id": "view-in-github",
        "colab_type": "text"
      },
      "source": [
        "<a href=\"https://colab.research.google.com/github/javiagu13/DeepLearning/blob/main/lab10.ipynb\" target=\"_parent\"><img src=\"https://colab.research.google.com/assets/colab-badge.svg\" alt=\"Open In Colab\"/></a>"
      ]
    },
    {
      "cell_type": "code",
      "metadata": {
        "id": "8vIUBYn1Ymgo"
      },
      "source": [
        "import tensorflow as tf\n",
        "from tensorflow import keras\n",
        "from tensorflow.keras.preprocessing.text import Tokenizer"
      ],
      "execution_count": null,
      "outputs": []
    },
    {
      "cell_type": "code",
      "metadata": {
        "id": "jf59CCo4Y5Or",
        "outputId": "71cb9971-f6cd-4bc4-f7ec-c32a1b8ec3cb",
        "colab": {
          "base_uri": "https://localhost:8080/"
        }
      },
      "source": [
        "train_data = [\"I love Deep Learning.\",\"i, am learning deep\"]\n",
        "tokenizer = Tokenizer(num_words=100)\n",
        "tokenizer.fit_on_texts(train_data)\n",
        "word_index=tokenizer.word_index\n",
        "print(word_index)"
      ],
      "execution_count": null,
      "outputs": [
        {
          "output_type": "stream",
          "text": [
            "{'i': 1, 'deep': 2, 'learning': 3, 'love': 4, 'am': 5}\n"
          ],
          "name": "stdout"
        }
      ]
    },
    {
      "cell_type": "code",
      "metadata": {
        "id": "v4u64zyMaa27",
        "outputId": "026a5d5f-d5d5-4f7f-88df-b678560dfe65",
        "colab": {
          "base_uri": "https://localhost:8080/"
        }
      },
      "source": [
        "train_data = [\"I love Deep Learning.\",\"i, am learning deep\",\"You love deep learning?\"]\n",
        "tokenizer = Tokenizer(num_words=100)\n",
        "tokenizer.fit_on_texts(train_data)\n",
        "word_index=tokenizer.word_index\n",
        "print(word_index)\n",
        "#one new word appeared (you)"
      ],
      "execution_count": null,
      "outputs": [
        {
          "output_type": "stream",
          "text": [
            "{'deep': 1, 'learning': 2, 'i': 3, 'love': 4, 'am': 5, 'you': 6}\n"
          ],
          "name": "stdout"
        }
      ]
    },
    {
      "cell_type": "code",
      "metadata": {
        "id": "VsX_QE8zbEWH",
        "outputId": "efdb2c32-0b2c-4a5f-d56a-055eae3b4cb0",
        "colab": {
          "base_uri": "https://localhost:8080/"
        }
      },
      "source": [
        "test_data = [\"i really love deep learning\" ,\"my dog loves python\"]\n",
        "sentence=tokenizer.texts_to_sequences(test_data)\n",
        "print(sentence)\n",
        "#yes it does it correctly"
      ],
      "execution_count": null,
      "outputs": [
        {
          "output_type": "stream",
          "text": [
            "[[3, 4, 1, 2], []]\n"
          ],
          "name": "stdout"
        }
      ]
    },
    {
      "cell_type": "code",
      "metadata": {
        "id": "-YNzqUkJdrUl",
        "outputId": "83915e99-597b-45f0-a0b5-e7eb5ecdf789",
        "colab": {
          "base_uri": "https://localhost:8080/"
        }
      },
      "source": [
        "train_data = [\"I love Deep Learning.\",\"i, am learning deep\",\"You love deep learning?\"]\n",
        "tokenizer = Tokenizer(num_words=100, oov_token=\"<OOV>\")\n",
        "tokenizer.fit_on_texts(train_data)\n",
        "word_index=tokenizer.word_index\n",
        "print(word_index)"
      ],
      "execution_count": null,
      "outputs": [
        {
          "output_type": "stream",
          "text": [
            "{'<OOV>': 1, 'deep': 2, 'learning': 3, 'i': 4, 'love': 5, 'am': 6, 'you': 7}\n"
          ],
          "name": "stdout"
        }
      ]
    },
    {
      "cell_type": "code",
      "metadata": {
        "id": "0-EfbbR9iyzA"
      },
      "source": [
        ""
      ],
      "execution_count": null,
      "outputs": []
    },
    {
      "cell_type": "code",
      "metadata": {
        "id": "Z3P5SgU6ieA7",
        "outputId": "a5841e81-66a2-478d-8160-b463d325f09c",
        "colab": {
          "base_uri": "https://localhost:8080/"
        }
      },
      "source": [
        "test_data = [\"i really love deep learning\" ,\"my dog loves python\"]\n",
        "sentence=tokenizer.texts_to_sequences(test_data)\n",
        "print(sentence)\n",
        "#now it is set as an unseen word"
      ],
      "execution_count": null,
      "outputs": [
        {
          "output_type": "stream",
          "text": [
            "[[4, 1, 5, 2, 3], [1, 1, 1, 1]]\n"
          ],
          "name": "stdout"
        }
      ]
    },
    {
      "cell_type": "markdown",
      "metadata": {
        "id": "SB-NmWjliwgy"
      },
      "source": [
        "PADDING"
      ]
    },
    {
      "cell_type": "code",
      "metadata": {
        "id": "IWaYqdrdizoS"
      },
      "source": [
        "from keras.preprocessing.sequence import pad_sequences "
      ],
      "execution_count": null,
      "outputs": []
    },
    {
      "cell_type": "code",
      "metadata": {
        "id": "tGMMWDR6imDR",
        "outputId": "d0fa352e-3dd2-4f44-94e2-ab01e9e1ae11",
        "colab": {
          "base_uri": "https://localhost:8080/"
        }
      },
      "source": [
        "train_data = [\"I love Deep Learning.\",\"i, am learning deep\",\"You love deep learning?\",\"Do you think deep learning is amazing?\",\"My dog is still deep learning\"]\n",
        "tokenizer = Tokenizer(num_words=100, oov_token=\"<OOV>\")\n",
        "tokenizer.fit_on_texts(train_data)\n",
        "word_index=tokenizer.word_index\n",
        "print(word_index)"
      ],
      "execution_count": null,
      "outputs": [
        {
          "output_type": "stream",
          "text": [
            "{'<OOV>': 1, 'deep': 2, 'learning': 3, 'i': 4, 'love': 5, 'you': 6, 'is': 7, 'am': 8, 'do': 9, 'think': 10, 'amazing': 11, 'my': 12, 'dog': 13, 'still': 14}\n"
          ],
          "name": "stdout"
        }
      ]
    },
    {
      "cell_type": "code",
      "metadata": {
        "id": "UxiFF-RHjQyR",
        "outputId": "cecdb878-32fc-430e-b223-007ec39a03a9",
        "colab": {
          "base_uri": "https://localhost:8080/"
        }
      },
      "source": [
        "sentenceTrain=tokenizer.texts_to_sequences(train_data);\n",
        "padded1= pad_sequences(sentenceTrain, padding='post', truncating='post', maxlen=5)\n",
        "print(padded1)"
      ],
      "execution_count": null,
      "outputs": [
        {
          "output_type": "stream",
          "text": [
            "[[ 4  5  2  3  0]\n",
            " [ 4  8  3  2  0]\n",
            " [ 6  5  2  3  0]\n",
            " [ 9  6 10  2  3]\n",
            " [12 13  7 14  2]]\n"
          ],
          "name": "stdout"
        }
      ]
    },
    {
      "cell_type": "code",
      "metadata": {
        "id": "5qernEWqlFii",
        "outputId": "68d90e58-cc0d-45d9-b4ef-c437c3eb5d99",
        "colab": {
          "base_uri": "https://localhost:8080/"
        }
      },
      "source": [
        "test_data = [\"i really love deep learning\" ,\"my dog loves python\"]\n",
        "sentence=tokenizer.texts_to_sequences(test_data)\n",
        "\n",
        "sentenceTest=tokenizer.texts_to_sequences(test_data);\n",
        "padded2= pad_sequences(sentenceTest,padding='post', truncating='post',maxlen=5)\n",
        "print(padded2)"
      ],
      "execution_count": null,
      "outputs": [
        {
          "output_type": "stream",
          "text": [
            "[[ 4  1  5  2  3]\n",
            " [12 13  1  1  0]]\n"
          ],
          "name": "stdout"
        }
      ]
    },
    {
      "cell_type": "code",
      "metadata": {
        "id": "33ZHFk24j88T"
      },
      "source": [
        ""
      ],
      "execution_count": null,
      "outputs": []
    }
  ]
}